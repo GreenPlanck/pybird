{
 "cells": [
  {
   "cell_type": "code",
   "execution_count": 1,
   "metadata": {},
   "outputs": [],
   "source": [
    "import os, sys\n",
    "import numpy as np\n",
    "import matplotlib\n",
    "import matplotlib.pyplot as plt\n",
    "import yaml"
   ]
  },
  {
   "cell_type": "code",
   "execution_count": 2,
   "metadata": {},
   "outputs": [],
   "source": [
    "font = {'size': 14}\n",
    "axislabelfontsize='large'\n",
    "matplotlib.rc('font', **font)"
   ]
  },
  {
   "cell_type": "markdown",
   "metadata": {},
   "source": [
    "Make sure that the following packages are **pip**-installed. "
   ]
  },
  {
   "cell_type": "code",
   "execution_count": 3,
   "metadata": {},
   "outputs": [],
   "source": [
    "from classy import Class\n",
    "from iminuit import minimize as minuit\n",
    "import emcee\n",
    "from getdist import loadMCSamples, plots, mcsamples, MCSamples"
   ]
  },
  {
   "cell_type": "markdown",
   "metadata": {},
   "source": [
    "Calling the `likelihood` class of **PyBird**"
   ]
  },
  {
   "cell_type": "code",
   "execution_count": 4,
   "metadata": {},
   "outputs": [],
   "source": [
    "from pybird.likelihood import Likelihood"
   ]
  },
  {
   "cell_type": "markdown",
   "metadata": {},
   "source": [
    "# EFT likelihood of BOSS"
   ]
  },
  {
   "cell_type": "markdown",
   "metadata": {},
   "source": [
    "### Setting up the likelihood"
   ]
  },
  {
   "cell_type": "markdown",
   "metadata": {},
   "source": [
    "First, let us create a CLASS engine M, that will be provided to the likelihood. "
   ]
  },
  {
   "cell_type": "code",
   "execution_count": 5,
   "metadata": {},
   "outputs": [],
   "source": [
    "M = Class()\n",
    "cosmo = {'omega_b': 0.02235, 'omega_cdm': 0.120, 'h': 0.675, 'ln10^{10}A_s': 3.044, 'n_s': 0.965}\n",
    "M.set(cosmo)\n",
    "M.set({'output': 'mPk', 'P_k_max_h/Mpc': 10, 'z_max_pk': 1})\n",
    "M.compute()"
   ]
  },
  {
   "cell_type": "markdown",
   "metadata": {},
   "source": [
    "Next, let us setup the EFT likelihood of the power spectrum multipoles of BOSS CMASS NGC.\n",
    "\n",
    "We first load the relevant config file. "
   ]
  },
  {
   "cell_type": "code",
   "execution_count": 6,
   "metadata": {},
   "outputs": [],
   "source": [
    "rootdir='../'\n",
    "configdir = os.path.join('../', 'data', 'eftboss', 'config')"
   ]
  },
  {
   "cell_type": "code",
   "execution_count": 7,
   "metadata": {},
   "outputs": [
    {
     "name": "stdout",
     "output_type": "stream",
     "text": [
      "data_path: ../data/eftboss/\n",
      "data_file: boss_dr12_2pt.npy\n",
      "output: bPk\n",
      "multipole: 2\n",
      "with_ap: true\n",
      "with_survey_mask: true\n",
      "sky:\n",
      "    cmass_ngc:\n",
      "        min:\n",
      "        - 0.01\n",
      "        - 0.01\n",
      "        max:\n",
      "        - 0.23\n",
      "        - 0.23\n",
      "write:\n",
      "    save: true\n",
      "    fake: false\n",
      "    plot: true\n",
      "    show: true\n",
      "    out_path: ../data/eftboss/out/\n",
      "    out_name: boss_onesky_pk_wc\n",
      "km: 0.7\n",
      "kr: 0.35\n",
      "nd: 0.0004\n",
      "eft_basis: westcoast\n",
      "with_stoch: true\n",
      "eft_prior:\n",
      "    b1:\n",
      "        type: flat\n",
      "        range: null\n",
      "    c2:\n",
      "        type: gauss\n",
      "        mean:\n",
      "        - 0.0\n",
      "        range:\n",
      "        - 2.0\n",
      "    c4:\n",
      "        type: unvaried\n",
      "    b3:\n",
      "        type: marg_gauss\n",
      "        mean:\n",
      "        - 0.0\n",
      "        range:\n",
      "        - 2.0\n",
      "    cct:\n",
      "        type: marg_gauss\n",
      "        mean:\n",
      "        - 0.0\n",
      "        range:\n",
      "        - 2.0\n",
      "    cr1:\n",
      "        type: marg_gauss\n",
      "        mean:\n",
      "        - 0.0\n",
      "        range:\n",
      "        - 2.0\n",
      "    cr2:\n",
      "        type: marg_gauss\n",
      "        mean:\n",
      "        - 0.0\n",
      "        range:\n",
      "        - 2.0\n",
      "    ce0:\n",
      "        type: marg_gauss\n",
      "        mean:\n",
      "        - 0.0\n",
      "        range:\n",
      "        - 2.0\n",
      "    ce1:\n",
      "        type: unvaried\n",
      "    ce2:\n",
      "        type: marg_gauss\n",
      "        mean:\n",
      "        - 0.0\n",
      "        range:\n",
      "        - 2.0\n",
      "\n"
     ]
    }
   ],
   "source": [
    "config = yaml.full_load(open(os.path.join(configdir, 'boss_cmass_ngc_pk_wc.yaml'), 'r'))\n",
    "config[\"data_path\"] = os.path.join(rootdir, config[\"data_path\"])\n",
    "config[\"write\"][\"out_path\"] = os.path.join(rootdir, config[\"write\"][\"out_path\"])\n",
    "print ( yaml.dump(config, indent=4, sort_keys=False))"
   ]
  },
  {
   "cell_type": "markdown",
   "metadata": {},
   "source": [
    "As we can see, there is a bunch of options there. Most should be self-explanatory. We can see that we can specify  the data, the output, the multipoles, the ranges (min / max) per multipoles, corrections to observational effects, and the prior, to include in the analysis. Useful configuration examples can be found in [this data folder](../data/eftboss/config/). \n",
    "\n",
    "There are basically three types of prior: `flat` (no prior), `gauss` (with mean and range to specify), and `marg_gauss`, which is also a Gaussian prior but with the parameter, because appearing at most quadratically in the likelihood, analytically marginalized. \n",
    "\n",
    "Let us setup the likelihood with this configuration. "
   ]
  },
  {
   "cell_type": "code",
   "execution_count": 8,
   "metadata": {},
   "outputs": [],
   "source": [
    "config['with_rs_marg']=True"
   ]
  },
  {
   "cell_type": "code",
   "execution_count": 9,
   "metadata": {},
   "outputs": [
    {
     "name": "stdout",
     "output_type": "stream",
     "text": [
      "reading data file: ../data/eftboss/boss_dr12_2pt.npy\n",
      "-----------------------\n",
      "sky: cmass_ngc\n",
      "output: bPk\n",
      "multipole: 2\n",
      "min bound (per multipole): [0.01, 0.01]\n",
      "max bound (per multipole): [0.23, 0.23]\n",
      "coordinate (AP) distortion: on\n",
      "survey mask: on\n",
      "-----------------------\n",
      "cmass_ngc: Hartlap factor correction on precision matrix estimated from 2048 mocks for 40 bins\n",
      "-----------------------\n",
      "get_maxlkl : False\n",
      "with_boss_correlated_skies_prior : False\n",
      "with_rs_marg : True\n",
      "-----------------------\n"
     ]
    }
   ],
   "source": [
    "L = Likelihood(config)"
   ]
  },
  {
   "cell_type": "markdown",
   "metadata": {},
   "source": [
    "Now let us evaluate the likelihood on the cosmology given through the CLASS engine M.\n",
    "\n",
    "As this is the first time we evaluate the likelihood on this cosmology, we specify it through the flat \"need_cosmo_update\" such that the likelihood calls PyBird to compute the predictions. As such, this evaluation may take a few seconds. "
   ]
  },
  {
   "cell_type": "code",
   "execution_count": 10,
   "metadata": {},
   "outputs": [
    {
     "data": {
      "text/plain": [
       "-117.02105852612883"
      ]
     },
     "execution_count": 10,
     "metadata": {},
     "output_type": "execute_result"
    }
   ],
   "source": [
    "eft_name = ['alpha_rs','b1', 'c2'] \n",
    "eft_init = [0.87,2, 0] \n",
    "init = L.loglkl(eft_init, eft_name, M, need_cosmo_update=True)\n",
    "init"
   ]
  },
  {
   "cell_type": "code",
   "execution_count": null,
   "metadata": {},
   "outputs": [],
   "source": []
  },
  {
   "cell_type": "markdown",
   "metadata": {},
   "source": [
    "As we can see, the structure of the log-likelihood function is very simple: one needs to provide the values of the EFT parameters that are scanned, the corresponding names, the CLASS engine, and the `need_cosmo_update` flag. \n",
    "\n",
    "In particular, we provide [here](../montepython/) an integration in **[MontePython](https://github.com/brinckmann/montepython_public)**."
   ]
  },
  {
   "cell_type": "markdown",
   "metadata": {},
   "source": [
    "### Maximizing the likelihood"
   ]
  },
  {
   "cell_type": "markdown",
   "metadata": {},
   "source": [
    "Now that the PyBird predictions are computed, we can scan over the EFT parameters in almost no time if we do not update the cosmology. \n",
    "\n",
    "Let us maximize the likelihood with respect to the EFT parameters! We use **[iminuit](https://iminuit.readthedocs.io/)**.\n",
    "\n",
    "Notice that we do not explicitly need to scan over most of the EFT parameters except a few, as most of them can be analytically marginalized over with a Gaussian prior. Importantly, when searching for the most-likely value, we do maximize, within priors, the global likelihood, and not the marginalized one (see App. C of [2003.07956](https://arxiv.org/abs/2003.07956)). "
   ]
  },
  {
   "cell_type": "code",
   "execution_count": 11,
   "metadata": {},
   "outputs": [
    {
     "name": "stdout",
     "output_type": "stream",
     "text": [
      "min chi2: 31.00, p-value: 0.466\n",
      "bestfit ['alpha_rs', 'b1', 'c2']: [1.013 1.96  0.621]\n"
     ]
    }
   ],
   "source": [
    "L.c[\"get_maxlkl\"] = True # minimization mode\n",
    "\n",
    "def chi2(eft_params): return -2. * L.loglkl(eft_params, eft_name, M, need_cosmo_update=False)\n",
    "minimum = minuit(chi2, eft_init)\n",
    "\n",
    "from scipy import stats\n",
    "def pvalue(minchi2, dof): return 1. - stats.chi2.cdf(minchi2, dof)\n",
    "dof = L.y_all.shape[0] - len(eft_name) - L.Ng # number of data points - EFT parameters\n",
    "print ('min chi2: %.2f, p-value: %.3f' % (minimum['fun'], pvalue(minimum['fun'], dof)))\n",
    "with np.printoptions(precision=3): print ('bestfit %s: %s' % (eft_name, minimum['x']))"
   ]
  },
  {
   "cell_type": "markdown",
   "metadata": {},
   "source": [
    "The following function generates with the previously obtained best fit data files and plots if specified so in the config file under the option \"write\". "
   ]
  },
  {
   "cell_type": "code",
   "execution_count": 12,
   "metadata": {},
   "outputs": [
    {
     "name": "stdout",
     "output_type": "stream",
     "text": [
      "data files with best fit saved to ../data/eftboss/out/.\n",
      "data plot with best fit saved to ../data/eftboss/out/.\n"
     ]
    }
   ],
   "source": [
    "L.write()"
   ]
  },
  {
   "cell_type": "markdown",
   "metadata": {},
   "source": [
    "### Sampling from the likelihood"
   ]
  },
  {
   "cell_type": "markdown",
   "metadata": {},
   "source": [
    "Let us now sample the posteriors of the EFT parameters from the likelihood. We use **[emcee](https://emcee.readthedocs.io/)**."
   ]
  },
  {
   "cell_type": "code",
   "execution_count": null,
   "metadata": {},
   "outputs": [
    {
     "name": "stderr",
     "output_type": "stream",
     "text": [
      "  0%|▎                                                                             | 21/5000 [23:11<91:42:52, 66.31s/it]Traceback (most recent call last):\n",
      "  File \"/exports/home/luzhiyu/data/Basic_download/anaconda3/envs/mpi/lib/python3.8/site-packages/emcee/ensemble.py\", line 624, in __call__\n",
      "    return self.f(x, *self.args, **self.kwargs)\n",
      "  File \"/data/luzhiyu/Cosmology_packages/LSS/pybird-alphars/pybird/likelihood.py\", line 167, in loglkl\n",
      "    self.correlator_sky[i].compute(cosmo_dict={'alpha_rs':alpha_rs_marg}, cosmo_module='class', cosmo_engine=class_engine)\n",
      "  File \"/data/luzhiyu/Cosmology_packages/LSS/pybird-alphars/pybird/correlator.py\", line 294, in compute\n",
      "    if not correlator_engine: self.resum.PsCf(self.bird, makeIR=True, makeQ=False, setIR=False, setPs=False, setCf=False) # compute IR-correction pieces\n",
      "  File \"/data/luzhiyu/Cosmology_packages/LSS/pybird-alphars/pybird/resum.py\", line 230, in PsCf\n",
      "    self.Ps(bird, makeIR=makeIR, makeQ=makeQ, setIR=setIR, setPs=setPs, window=window)\n",
      "  File \"/data/luzhiyu/Cosmology_packages/LSS/pybird-alphars/pybird/resum.py\", line 237, in Ps\n",
      "    if makeIR: self.IRPs(bird, window=window)\n",
      "  File \"/data/luzhiyu/Cosmology_packages/LSS/pybird-alphars/pybird/resum.py\", line 266, in IRPs\n",
      "    IRcorrUnsorted = np.real((-1j)**(2*l)) * self.k2p[j] * self.IRn(xy * cli, window=window)\n",
      "  File \"/data/luzhiyu/Cosmology_packages/LSS/pybird-alphars/pybird/resum.py\", line 159, in IRn\n",
      "    Coef = self.fft.Coef(self.sr, XpYpC, extrap='padding', window=window)\n",
      "  File \"/data/luzhiyu/Cosmology_packages/LSS/pybird-alphars/pybird/fftlog.py\", line 121, in Coef\n",
      "    fx[i] = interpfunc(self.x[i]) * exp(-self.bias * i * self.dx)\n",
      "KeyboardInterrupt\n",
      "  0%|▎                                                                             | 21/5000 [23:47<94:01:55, 67.99s/it]"
     ]
    },
    {
     "name": "stdout",
     "output_type": "stream",
     "text": [
      "emcee: Exception while calling your likelihood function:\n",
      "  params: [0.99343658 2.02126163 0.67020484]\n",
      "  args: (['alpha_rs', 'b1', 'c2'], <classy.Class object at 0x55691d0339a0>, False)\n",
      "  kwargs: {}\n",
      "  exception:\n"
     ]
    },
    {
     "name": "stderr",
     "output_type": "stream",
     "text": [
      "\n"
     ]
    }
   ],
   "source": [
    "L.c[\"get_maxlkl\"] = False # marginalization mode\n",
    "\n",
    "pos = minimum['x'] + 1e-4 * np.random.randn(len(eft_name)*4, len(eft_name))\n",
    "nwalkers, ndim = pos.shape\n",
    "\n",
    "sampler = emcee.EnsembleSampler(nwalkers, ndim, L.loglkl, args=(eft_name, M, False))\n",
    "sampler.run_mcmc(pos, 5000, progress=True);\n",
    "\n",
    "tau = np.array(sampler.get_autocorr_time())\n",
    "with np.printoptions(precision=0): print(tau)\n",
    "\n",
    "flat_samples = sampler.get_chain(discard=100, thin=20, flat=True)\n",
    "print(flat_samples.shape)"
   ]
  },
  {
   "cell_type": "code",
   "execution_count": null,
   "metadata": {},
   "outputs": [],
   "source": [
    "flat_samples.shape"
   ]
  },
  {
   "cell_type": "code",
   "execution_count": null,
   "metadata": {},
   "outputs": [],
   "source": [
    "%matplotlib inline\n",
    "plt.plot(flat_samples[1,0])"
   ]
  },
  {
   "cell_type": "code",
   "execution_count": null,
   "metadata": {},
   "outputs": [],
   "source": [
    "samples = MCSamples(samples=flat_samples, names = eft_name, labels = eft_name)\n",
    "g = plots.get_subplot_plotter(width_inch=8) \n",
    "g.triangle_plot(samples, eft_name, filled=True, markers=minimum['x'], title_limit=1, \n",
    "                legend_labels=['CMASS NGC'])\n",
    "plt.show()"
   ]
  },
  {
   "cell_type": "markdown",
   "metadata": {},
   "source": [
    "### Comparing $P_\\ell(k)$ vs. $\\xi_\\ell(s)$"
   ]
  },
  {
   "cell_type": "markdown",
   "metadata": {},
   "source": [
    "Cool. Now, let us do the same with the multipoles of the correlation function of BOSS CMASS NGC and compare!"
   ]
  },
  {
   "cell_type": "code",
   "execution_count": null,
   "metadata": {},
   "outputs": [],
   "source": [
    "config = yaml.full_load(open(os.path.join(configdir, 'boss_cmass_ngc_cf_wc.yaml'), 'r'))\n",
    "config[\"data_path\"] = os.path.join(rootdir, config[\"data_path\"])\n",
    "L = Likelihood(config)"
   ]
  },
  {
   "cell_type": "code",
   "execution_count": null,
   "metadata": {},
   "outputs": [],
   "source": [
    "init = L.loglkl(eft_init, eft_name, M, need_cosmo_update=True)"
   ]
  },
  {
   "cell_type": "code",
   "execution_count": null,
   "metadata": {},
   "outputs": [],
   "source": [
    "L.c[\"get_maxlkl\"] = True # minimization mode\n",
    "\n",
    "def chi2(eft_params): return -2. * L.loglkl(eft_params, eft_name, M, need_cosmo_update=False)\n",
    "minimum = minuit(chi2, eft_init)\n",
    "\n",
    "from scipy import stats\n",
    "def pvalue(minchi2, dof): return 1. - stats.chi2.cdf(minchi2, dof)\n",
    "dof = L.y_all.shape[0] - len(eft_name) - L.Ng # number of data points - EFT parameters\n",
    "print ('min chi2: %.2f, p-value: %.3f' % (minimum['fun'], pvalue(minimum['fun'], dof)))\n",
    "with np.printoptions(precision=3): print ('bestfit %s: %s' % (eft_name, minimum['x']))"
   ]
  },
  {
   "cell_type": "code",
   "execution_count": null,
   "metadata": {},
   "outputs": [],
   "source": [
    "L.c[\"get_maxlkl\"] = False # marginalization mode\n",
    "\n",
    "pos = minimum['x'] + 1e-4 * np.random.randn(len(eft_name)*4, len(eft_name))\n",
    "nwalkers, ndim = pos.shape\n",
    "\n",
    "sampler = emcee.EnsembleSampler(nwalkers, ndim, L.loglkl, args=(eft_name, M, False))\n",
    "sampler.run_mcmc(pos, 5000, progress=True);\n",
    "\n",
    "tau = np.array(sampler.get_autocorr_time())\n",
    "with np.printoptions(precision=0): print(tau)\n",
    "\n",
    "flat_samples = sampler.get_chain(discard=1000, thin=20, flat=True)\n",
    "print(flat_samples.shape)"
   ]
  },
  {
   "cell_type": "code",
   "execution_count": null,
   "metadata": {},
   "outputs": [],
   "source": [
    "samples_cf = MCSamples(samples=flat_samples, names = eft_name, labels = eft_name)\n",
    "g = plots.get_subplot_plotter(width_inch=8) \n",
    "g.triangle_plot([samples_cf, samples], eft_name, filled=True, markers=minimum['x'], title_limit=1, \n",
    "                legend_labels=[r'CMASS NGC $\\xi_\\ell(s)$', r'CMASS NGC $P_\\ell(k)$'])\n",
    "plt.show()"
   ]
  },
  {
   "cell_type": "markdown",
   "metadata": {},
   "source": [
    "### Comparing EFT priors"
   ]
  },
  {
   "cell_type": "markdown",
   "metadata": {},
   "source": [
    "Cool. What happens if we analyze the power spectrum but with another prior, say the East-Coast prior (see e.g., [2208.05929](https://arxiv.org/abs/2208.05929))?"
   ]
  },
  {
   "cell_type": "code",
   "execution_count": null,
   "metadata": {},
   "outputs": [],
   "source": [
    "config = yaml.full_load(open(os.path.join(configdir, 'boss_cmass_ngc_pk_ec.yaml'), 'r'))\n",
    "config[\"data_path\"] = os.path.join(rootdir, config[\"data_path\"])\n",
    "L = Likelihood(config)"
   ]
  },
  {
   "cell_type": "code",
   "execution_count": null,
   "metadata": {},
   "outputs": [],
   "source": [
    "eft_name_ec = ['b1', 'bt2', 'bG2'] \n",
    "eft_init_ec = [2., 0., 0.]\n",
    "init = L.loglkl(eft_init_ec, eft_name_ec, M, need_cosmo_update=True)"
   ]
  },
  {
   "cell_type": "code",
   "execution_count": null,
   "metadata": {},
   "outputs": [],
   "source": [
    "L.c[\"get_maxlkl\"] = True # minimization mode\n",
    "\n",
    "def chi2(eft_params): return -2. * L.loglkl(eft_params, eft_name_ec, M, need_cosmo_update=False)\n",
    "minimum = minuit(chi2, eft_init_ec)\n",
    "\n",
    "from scipy import stats\n",
    "def pvalue(minchi2, dof): return 1. - stats.chi2.cdf(minchi2, dof)\n",
    "dof = L.y_all.shape[0] - len(eft_name_ec) - L.Ng # number of data points - EFT parameters\n",
    "print ('min chi2: %.2f, p-value: %.3f' % (minimum['fun'], pvalue(minimum['fun'], dof)))\n",
    "with np.printoptions(precision=3): print ('bestfit %s: %s' % (eft_name_ec, minimum['x']))"
   ]
  },
  {
   "cell_type": "code",
   "execution_count": null,
   "metadata": {},
   "outputs": [],
   "source": [
    "L.c[\"get_maxlkl\"] = False # marginalization mode\n",
    "\n",
    "pos = minimum['x'] + 1e-4 * np.random.randn(len(eft_name_ec)*4, len(eft_name_ec))\n",
    "nwalkers, ndim = pos.shape\n",
    "\n",
    "sampler = emcee.EnsembleSampler(nwalkers, ndim, L.loglkl, args=(eft_name_ec, M, False))\n",
    "sampler.run_mcmc(pos, 5000, progress=True);\n",
    "\n",
    "tau = np.array(sampler.get_autocorr_time())\n",
    "with np.printoptions(precision=0): print(tau)\n",
    "\n",
    "flat_samples = sampler.get_chain(discard=1000, thin=20, flat=True)\n",
    "print(flat_samples.shape)"
   ]
  },
  {
   "cell_type": "code",
   "execution_count": null,
   "metadata": {},
   "outputs": [],
   "source": [
    "samples_ec = MCSamples(samples=flat_samples, names = eft_name_ec, labels = eft_name_ec)\n",
    "g = plots.get_subplot_plotter(width_inch=8) \n",
    "g.triangle_plot(samples_ec, eft_name_ec, filled=True, markers=minimum['x'], title_limit=1, \n",
    "                legend_labels=[r'CMASS NGC EC'])\n",
    "plt.show()"
   ]
  },
  {
   "cell_type": "markdown",
   "metadata": {},
   "source": [
    "### BOSS 4 skies"
   ]
  },
  {
   "cell_type": "markdown",
   "metadata": {},
   "source": [
    "OK. If we have ~0.5 hour, we might as well do all four BOSS skies. "
   ]
  },
  {
   "cell_type": "code",
   "execution_count": null,
   "metadata": {},
   "outputs": [],
   "source": [
    "config = yaml.full_load(open(os.path.join(configdir, 'boss_pk_wc.yaml'), 'r'))\n",
    "config[\"data_path\"] = os.path.join(rootdir, config[\"data_path\"])\n",
    "config[\"write\"][\"out_path\"] = os.path.join(rootdir, config[\"write\"][\"out_path\"])\n",
    "L = Likelihood(config)"
   ]
  },
  {
   "cell_type": "code",
   "execution_count": null,
   "metadata": {},
   "outputs": [],
   "source": [
    "eft_name = []\n",
    "for i in range(1,5): eft_name += ['b1_%s' % i, 'c2_%s' % i] \n",
    "eft_init = 4 * [2., 0.]\n",
    "init = L.loglkl(eft_init, eft_name, M, need_cosmo_update=True)"
   ]
  },
  {
   "cell_type": "code",
   "execution_count": null,
   "metadata": {},
   "outputs": [],
   "source": [
    "L.c[\"get_maxlkl\"] = True # minimization mode\n",
    "\n",
    "def chi2(eft_params): return -2. * L.loglkl(eft_params, eft_name, M, need_cosmo_update=False)\n",
    "minimum = minuit(chi2, eft_init)\n",
    "\n",
    "from scipy import stats\n",
    "def pvalue(minchi2, dof): return 1. - stats.chi2.cdf(minchi2, dof)\n",
    "dof = L.y_all.shape[0] - len(eft_name) - L.Ng # number of data points - EFT parameters\n",
    "print ('min chi2: %.2f, p-value: %.3f' % (minimum['fun'], pvalue(minimum['fun'], dof)))\n",
    "with np.printoptions(precision=3): print ('bestfit %s: %s' % (eft_name, minimum['x']))"
   ]
  },
  {
   "cell_type": "code",
   "execution_count": null,
   "metadata": {},
   "outputs": [],
   "source": [
    "L.write()"
   ]
  },
  {
   "cell_type": "code",
   "execution_count": null,
   "metadata": {},
   "outputs": [],
   "source": [
    "L.c[\"get_maxlkl\"] = False # marginalization mode\n",
    "\n",
    "pos = minimum['x'] + 1e-4 * np.random.randn(len(eft_name)*3, len(eft_name))\n",
    "nwalkers, ndim = pos.shape\n",
    "\n",
    "sampler = emcee.EnsembleSampler(nwalkers, ndim, L.loglkl, args=(eft_name, M, False))\n",
    "sampler.run_mcmc(pos, 20000, progress=True);\n",
    "\n",
    "tau = np.array(sampler.get_autocorr_time())\n",
    "with np.printoptions(precision=0): print(tau)\n",
    "\n",
    "flat_samples = sampler.get_chain(discard=1000, thin=100, flat=True)\n",
    "print(flat_samples.shape)"
   ]
  },
  {
   "cell_type": "code",
   "execution_count": null,
   "metadata": {},
   "outputs": [],
   "source": [
    "samples_boss = MCSamples(samples=flat_samples, names = eft_name, labels = eft_name)\n",
    "g = plots.get_subplot_plotter(width_inch=16) \n",
    "g.triangle_plot(samples_boss, eft_name, filled=True, markers=minimum['x'], title_limit=1, \n",
    "                legend_labels=[r'EFT BOSS'])\n",
    "plt.show()"
   ]
  },
  {
   "cell_type": "code",
   "execution_count": null,
   "metadata": {},
   "outputs": [],
   "source": []
  }
 ],
 "metadata": {
  "kernelspec": {
   "display_name": "Python 3 (ipykernel)",
   "language": "python",
   "name": "python3"
  },
  "language_info": {
   "codemirror_mode": {
    "name": "ipython",
    "version": 3
   },
   "file_extension": ".py",
   "mimetype": "text/x-python",
   "name": "python",
   "nbconvert_exporter": "python",
   "pygments_lexer": "ipython3",
   "version": "3.8.15"
  }
 },
 "nbformat": 4,
 "nbformat_minor": 4
}
